{
 "cells": [
  {
   "cell_type": "code",
   "execution_count": 1,
   "metadata": {},
   "outputs": [
    {
     "name": "stdout",
     "output_type": "stream",
     "text": [
      "Collecting pandas\n",
      "  Using cached pandas-2.2.3-cp312-cp312-win_amd64.whl.metadata (19 kB)\n",
      "Collecting openpyxl\n",
      "  Downloading openpyxl-3.1.5-py2.py3-none-any.whl.metadata (2.5 kB)\n",
      "Collecting numpy>=1.26.0 (from pandas)\n",
      "  Downloading numpy-2.2.0-cp312-cp312-win_amd64.whl.metadata (60 kB)\n",
      "Requirement already satisfied: python-dateutil>=2.8.2 in c:\\users\\lenovo\\ml notebooks\\basic practice\\ml_basic_practice_repo\\basic_env\\lib\\site-packages (from pandas) (2.9.0.post0)\n",
      "Collecting pytz>=2020.1 (from pandas)\n",
      "  Using cached pytz-2024.2-py2.py3-none-any.whl.metadata (22 kB)\n",
      "Collecting tzdata>=2022.7 (from pandas)\n",
      "  Using cached tzdata-2024.2-py2.py3-none-any.whl.metadata (1.4 kB)\n",
      "Collecting et-xmlfile (from openpyxl)\n",
      "  Downloading et_xmlfile-2.0.0-py3-none-any.whl.metadata (2.7 kB)\n",
      "Requirement already satisfied: six>=1.5 in c:\\users\\lenovo\\ml notebooks\\basic practice\\ml_basic_practice_repo\\basic_env\\lib\\site-packages (from python-dateutil>=2.8.2->pandas) (1.17.0)\n",
      "Using cached pandas-2.2.3-cp312-cp312-win_amd64.whl (11.5 MB)\n",
      "Downloading openpyxl-3.1.5-py2.py3-none-any.whl (250 kB)\n",
      "Downloading numpy-2.2.0-cp312-cp312-win_amd64.whl (12.6 MB)\n",
      "   ---------------------------------------- 0.0/12.6 MB ? eta -:--:--\n",
      "   - -------------------------------------- 0.5/12.6 MB 2.8 MB/s eta 0:00:05\n",
      "   - -------------------------------------- 0.5/12.6 MB 2.8 MB/s eta 0:00:05\n",
      "   ---- ----------------------------------- 1.3/12.6 MB 1.8 MB/s eta 0:00:07\n",
      "   ---- ----------------------------------- 1.6/12.6 MB 2.0 MB/s eta 0:00:06\n",
      "   ------ --------------------------------- 2.1/12.6 MB 1.8 MB/s eta 0:00:06\n",
      "   ------- -------------------------------- 2.4/12.6 MB 2.0 MB/s eta 0:00:06\n",
      "   -------- ------------------------------- 2.6/12.6 MB 1.8 MB/s eta 0:00:06\n",
      "   --------- ------------------------------ 2.9/12.6 MB 1.6 MB/s eta 0:00:06\n",
      "   --------- ------------------------------ 3.1/12.6 MB 1.7 MB/s eta 0:00:06\n",
      "   ----------- ---------------------------- 3.7/12.6 MB 1.7 MB/s eta 0:00:06\n",
      "   ------------ --------------------------- 3.9/12.6 MB 1.7 MB/s eta 0:00:06\n",
      "   -------------- ------------------------- 4.5/12.6 MB 1.7 MB/s eta 0:00:05\n",
      "   -------------- ------------------------- 4.7/12.6 MB 1.7 MB/s eta 0:00:05\n",
      "   -------------- ------------------------- 4.7/12.6 MB 1.7 MB/s eta 0:00:05\n",
      "   --------------- ------------------------ 5.0/12.6 MB 1.6 MB/s eta 0:00:05\n",
      "   ---------------- ----------------------- 5.2/12.6 MB 1.6 MB/s eta 0:00:05\n",
      "   ----------------- ---------------------- 5.5/12.6 MB 1.5 MB/s eta 0:00:05\n",
      "   ------------------ --------------------- 5.8/12.6 MB 1.5 MB/s eta 0:00:05\n",
      "   ------------------ --------------------- 5.8/12.6 MB 1.5 MB/s eta 0:00:05\n",
      "   ------------------- -------------------- 6.0/12.6 MB 1.4 MB/s eta 0:00:05\n",
      "   ------------------- -------------------- 6.0/12.6 MB 1.4 MB/s eta 0:00:05\n",
      "   ------------------- -------------------- 6.3/12.6 MB 1.4 MB/s eta 0:00:05\n",
      "   ------------------- -------------------- 6.3/12.6 MB 1.4 MB/s eta 0:00:05\n",
      "   -------------------- ------------------- 6.6/12.6 MB 1.3 MB/s eta 0:00:05\n",
      "   -------------------- ------------------- 6.6/12.6 MB 1.3 MB/s eta 0:00:05\n",
      "   -------------------- ------------------- 6.6/12.6 MB 1.3 MB/s eta 0:00:05\n",
      "   --------------------- ------------------ 6.8/12.6 MB 1.2 MB/s eta 0:00:05\n",
      "   --------------------- ------------------ 6.8/12.6 MB 1.2 MB/s eta 0:00:05\n",
      "   --------------------- ------------------ 6.8/12.6 MB 1.2 MB/s eta 0:00:05\n",
      "   --------------------- ------------------ 6.8/12.6 MB 1.2 MB/s eta 0:00:05\n",
      "   --------------------- ------------------ 6.8/12.6 MB 1.2 MB/s eta 0:00:05\n",
      "   --------------------- ------------------ 6.8/12.6 MB 1.2 MB/s eta 0:00:05\n",
      "   --------------------- ------------------ 6.8/12.6 MB 1.2 MB/s eta 0:00:05\n",
      "   --------------------- ------------------ 6.8/12.6 MB 1.2 MB/s eta 0:00:05\n",
      "   ---------------------- ----------------- 7.1/12.6 MB 932.0 kB/s eta 0:00:06\n",
      "   ---------------------- ----------------- 7.1/12.6 MB 932.0 kB/s eta 0:00:06\n",
      "   ---------------------- ----------------- 7.1/12.6 MB 932.0 kB/s eta 0:00:06\n",
      "   ---------------------- ----------------- 7.1/12.6 MB 932.0 kB/s eta 0:00:06\n",
      "   ---------------------- ----------------- 7.1/12.6 MB 932.0 kB/s eta 0:00:06\n",
      "   ---------------------- ----------------- 7.1/12.6 MB 932.0 kB/s eta 0:00:06\n",
      "   ---------------------- ----------------- 7.1/12.6 MB 932.0 kB/s eta 0:00:06\n",
      "   ---------------------- ----------------- 7.1/12.6 MB 932.0 kB/s eta 0:00:06\n",
      "   ----------------------- ---------------- 7.3/12.6 MB 786.4 kB/s eta 0:00:07\n",
      "   ----------------------- ---------------- 7.3/12.6 MB 786.4 kB/s eta 0:00:07\n",
      "   ----------------------- ---------------- 7.3/12.6 MB 786.4 kB/s eta 0:00:07\n",
      "   ----------------------- ---------------- 7.3/12.6 MB 786.4 kB/s eta 0:00:07\n",
      "   ----------------------- ---------------- 7.3/12.6 MB 786.4 kB/s eta 0:00:07\n",
      "   ----------------------- ---------------- 7.3/12.6 MB 786.4 kB/s eta 0:00:07\n",
      "   ----------------------- ---------------- 7.3/12.6 MB 786.4 kB/s eta 0:00:07\n",
      "   ----------------------- ---------------- 7.3/12.6 MB 786.4 kB/s eta 0:00:07\n",
      "   ------------------------ --------------- 7.6/12.6 MB 687.8 kB/s eta 0:00:08\n",
      "   ------------------------ --------------- 7.6/12.6 MB 687.8 kB/s eta 0:00:08\n",
      "   ------------------------ --------------- 7.6/12.6 MB 687.8 kB/s eta 0:00:08\n",
      "   ------------------------ --------------- 7.6/12.6 MB 687.8 kB/s eta 0:00:08\n",
      "   ------------------------ --------------- 7.6/12.6 MB 687.8 kB/s eta 0:00:08\n",
      "   ------------------------ --------------- 7.9/12.6 MB 640.2 kB/s eta 0:00:08\n",
      "   ------------------------ --------------- 7.9/12.6 MB 640.2 kB/s eta 0:00:08\n",
      "   ------------------------ --------------- 7.9/12.6 MB 640.2 kB/s eta 0:00:08\n",
      "   ------------------------ --------------- 7.9/12.6 MB 640.2 kB/s eta 0:00:08\n",
      "   ------------------------- -------------- 8.1/12.6 MB 625.2 kB/s eta 0:00:08\n",
      "   ------------------------- -------------- 8.1/12.6 MB 625.2 kB/s eta 0:00:08\n",
      "   ------------------------- -------------- 8.1/12.6 MB 625.2 kB/s eta 0:00:08\n",
      "   -------------------------- ------------- 8.4/12.6 MB 613.3 kB/s eta 0:00:07\n",
      "   -------------------------- ------------- 8.4/12.6 MB 613.3 kB/s eta 0:00:07\n",
      "   -------------------------- ------------- 8.4/12.6 MB 613.3 kB/s eta 0:00:07\n",
      "   --------------------------- ------------ 8.7/12.6 MB 607.3 kB/s eta 0:00:07\n",
      "   --------------------------- ------------ 8.7/12.6 MB 607.3 kB/s eta 0:00:07\n",
      "   ---------------------------- ----------- 8.9/12.6 MB 607.1 kB/s eta 0:00:07\n",
      "   ----------------------------- ---------- 9.2/12.6 MB 610.1 kB/s eta 0:00:06\n",
      "   ----------------------------- ---------- 9.2/12.6 MB 610.1 kB/s eta 0:00:06\n",
      "   ----------------------------- ---------- 9.4/12.6 MB 613.6 kB/s eta 0:00:06\n",
      "   ----------------------------- ---------- 9.4/12.6 MB 613.6 kB/s eta 0:00:06\n",
      "   ------------------------------ --------- 9.7/12.6 MB 613.8 kB/s eta 0:00:05\n",
      "   ------------------------------- -------- 10.0/12.6 MB 617.7 kB/s eta 0:00:05\n",
      "   ------------------------------- -------- 10.0/12.6 MB 617.7 kB/s eta 0:00:05\n",
      "   -------------------------------- ------- 10.2/12.6 MB 623.8 kB/s eta 0:00:04\n",
      "   --------------------------------- ------ 10.5/12.6 MB 631.0 kB/s eta 0:00:04\n",
      "   ---------------------------------- ----- 10.7/12.6 MB 635.5 kB/s eta 0:00:03\n",
      "   ---------------------------------- ----- 10.7/12.6 MB 635.5 kB/s eta 0:00:03\n",
      "   ---------------------------------- ----- 10.7/12.6 MB 635.5 kB/s eta 0:00:03\n",
      "   ---------------------------------- ----- 11.0/12.6 MB 631.6 kB/s eta 0:00:03\n",
      "   ---------------------------------- ----- 11.0/12.6 MB 631.6 kB/s eta 0:00:03\n",
      "   ----------------------------------- ---- 11.3/12.6 MB 629.7 kB/s eta 0:00:03\n",
      "   ----------------------------------- ---- 11.3/12.6 MB 629.7 kB/s eta 0:00:03\n",
      "   ------------------------------------ --- 11.5/12.6 MB 630.0 kB/s eta 0:00:02\n",
      "   ------------------------------------- -- 11.8/12.6 MB 633.1 kB/s eta 0:00:02\n",
      "   ------------------------------------- -- 11.8/12.6 MB 633.1 kB/s eta 0:00:02\n",
      "   -------------------------------------- - 12.1/12.6 MB 636.0 kB/s eta 0:00:01\n",
      "   ---------------------------------------  12.3/12.6 MB 639.4 kB/s eta 0:00:01\n",
      "   ---------------------------------------  12.3/12.6 MB 639.4 kB/s eta 0:00:01\n",
      "   ---------------------------------------- 12.6/12.6 MB 640.5 kB/s eta 0:00:00\n",
      "Using cached pytz-2024.2-py2.py3-none-any.whl (508 kB)\n",
      "Using cached tzdata-2024.2-py2.py3-none-any.whl (346 kB)\n",
      "Downloading et_xmlfile-2.0.0-py3-none-any.whl (18 kB)\n",
      "Installing collected packages: pytz, tzdata, numpy, et-xmlfile, pandas, openpyxl\n",
      "Successfully installed et-xmlfile-2.0.0 numpy-2.2.0 openpyxl-3.1.5 pandas-2.2.3 pytz-2024.2 tzdata-2024.2\n",
      "Note: you may need to restart the kernel to use updated packages.\n"
     ]
    },
    {
     "name": "stderr",
     "output_type": "stream",
     "text": [
      "\n",
      "[notice] A new release of pip is available: 24.2 -> 24.3.1\n",
      "[notice] To update, run: python.exe -m pip install --upgrade pip\n"
     ]
    }
   ],
   "source": [
    "%pip install pandas openpyxl"
   ]
  },
  {
   "cell_type": "code",
   "execution_count": null,
   "metadata": {},
   "outputs": [
    {
     "data": {
      "text/plain": [
       "array([1, 0, 1, 0, 0, 0, 0, 1, 0, 1, 0, 1, 0, 0, 1, 1, 0, 1, 0, 1, 1, 0,\n",
       "       0, 1, 1, 0, 1, 1, 0, 0, 1])"
      ]
     },
     "execution_count": 80,
     "metadata": {},
     "output_type": "execute_result"
    }
   ],
   "source": [
    "import numpy as np\n",
    "import pandas as pd\n",
    "\n",
    "df=pd.read_excel(\"basic_dataset.xlsx\")\n",
    "df_array=df.to_numpy()\n",
    "X=df_array[:,0]\n",
    "y=df_array[:,1]\n",
    "y"
   ]
  },
  {
   "cell_type": "code",
   "execution_count": 81,
   "metadata": {},
   "outputs": [],
   "source": [
    "X=X.reshape(-1, 1)\n",
    "y=y.reshape(-1, 1)"
   ]
  },
  {
   "cell_type": "code",
   "execution_count": 82,
   "metadata": {},
   "outputs": [],
   "source": [
    "#Normalize Input Features\n",
    "# X = (X - np.mean(X)) / np.std(X)"
   ]
  },
  {
   "cell_type": "code",
   "execution_count": 83,
   "metadata": {},
   "outputs": [
    {
     "data": {
      "text/plain": [
       "array([[30],\n",
       "       [ 2],\n",
       "       [22],\n",
       "       [ 5],\n",
       "       [ 4],\n",
       "       [ 7],\n",
       "       [15],\n",
       "       [27],\n",
       "       [ 8],\n",
       "       [23],\n",
       "       [ 9],\n",
       "       [28],\n",
       "       [12],\n",
       "       [ 6],\n",
       "       [17],\n",
       "       [21],\n",
       "       [10],\n",
       "       [25],\n",
       "       [ 4],\n",
       "       [26],\n",
       "       [19],\n",
       "       [11],\n",
       "       [13],\n",
       "       [18],\n",
       "       [20],\n",
       "       [14],\n",
       "       [16],\n",
       "       [24],\n",
       "       [ 3],\n",
       "       [ 1],\n",
       "       [29]])"
      ]
     },
     "execution_count": 83,
     "metadata": {},
     "output_type": "execute_result"
    }
   ],
   "source": [
    "X"
   ]
  },
  {
   "cell_type": "code",
   "execution_count": 84,
   "metadata": {},
   "outputs": [],
   "source": [
    "input_size=1\n",
    "hidden_size=2\n",
    "output_size=1\n",
    "\n",
    "\n",
    "#initialize weights and bias\n",
    "np.random.seed(42)\n",
    "# W1=np.random.randn(input_size,hidden_size)*0.01\n",
    "b1=np.zeros((1,hidden_size))\n",
    "# W2=np.random.randn(hidden_size,output_size)*0.01\n",
    "b2=np.zeros((1,output_size))\n",
    "W1 = np.random.randn(input_size, hidden_size) * np.sqrt(2 / input_size)\n",
    "W2 = np.random.randn(hidden_size, output_size) * np.sqrt(2 / hidden_size)"
   ]
  },
  {
   "cell_type": "code",
   "execution_count": 85,
   "metadata": {},
   "outputs": [
    {
     "data": {
      "text/plain": [
       "(31, 1)"
      ]
     },
     "execution_count": 85,
     "metadata": {},
     "output_type": "execute_result"
    }
   ],
   "source": [
    "X.shape"
   ]
  },
  {
   "cell_type": "code",
   "execution_count": 86,
   "metadata": {},
   "outputs": [],
   "source": [
    "#activation functions\n",
    "def relu(z):\n",
    "    return np.maximum(0,z)\n",
    "def relu_derivative(z):\n",
    "    return z>0\n",
    "\n",
    "def sigmoid(z):\n",
    "    return 1/(1+np.exp(-z))\n",
    "def sigmoid_derivative(A):\n",
    "    return A*(1-A)"
   ]
  },
  {
   "cell_type": "code",
   "execution_count": 87,
   "metadata": {},
   "outputs": [],
   "source": [
    "def forward_pass(x,W1,b1,W2,b2):\n",
    "    Z1=np.dot(x,W1)+b1\n",
    "    A1=relu(Z1)\n",
    "    Z2=np.dot(A1,W2)+b2\n",
    "    A2=sigmoid(Z2)\n",
    "    return Z1,A1,Z2,A2"
   ]
  },
  {
   "cell_type": "code",
   "execution_count": 88,
   "metadata": {},
   "outputs": [
    {
     "data": {
      "text/plain": [
       "31"
      ]
     },
     "execution_count": 88,
     "metadata": {},
     "output_type": "execute_result"
    }
   ],
   "source": [
    "y.shape[0]"
   ]
  },
  {
   "cell_type": "code",
   "execution_count": 89,
   "metadata": {},
   "outputs": [],
   "source": [
    "def compute_loss(y_true,y_pred):\n",
    "    m=y_true.shape[0]\n",
    "    #we are using binary loss entropy as loss function\n",
    "    loss=-np.sum((y_true*np.log(y_pred))+((1-y_true)*np.log(1-y_pred)))/m\n",
    "    return loss"
   ]
  },
  {
   "cell_type": "code",
   "execution_count": 90,
   "metadata": {},
   "outputs": [],
   "source": [
    "def back_propagation(X,y,Z1,A1,Z2,A2,W1,W2):\n",
    "    m=X.shape[0]\n",
    "\n",
    "    #output layer gradients\n",
    "    dz2=A2-y\n",
    "    dw2=(np.dot(A1.T,dz2))/m\n",
    "    db2=np.sum(dz2, axis=0, keepdims=True)/m\n",
    "\n",
    "    #hidden layer gradients\n",
    "    dA1=np.dot(dz2,W2.T)\n",
    "    dz1=dA1*relu_derivative(Z1)\n",
    "    dw1=(np.dot(X.T,dz1))/m\n",
    "    db1=np.sum(dz1, axis=0, keepdims=True)/m\n",
    "\n",
    "    return dw1,db1,dw2,db2"
   ]
  },
  {
   "cell_type": "code",
   "execution_count": 91,
   "metadata": {},
   "outputs": [],
   "source": [
    "def update_weights_and_bias(W1,b1,W2,b2,dw1,db1,dw2,db2,learning_rate):\n",
    "    W1=W1-(learning_rate*dw1)\n",
    "    b1=b1-(learning_rate*db1)\n",
    "    W2=W2-(learning_rate*dw2)\n",
    "    b2=b2-(learning_rate*db2)\n",
    "\n",
    "    return W1,b1,W2,b2"
   ]
  },
  {
   "cell_type": "code",
   "execution_count": 92,
   "metadata": {},
   "outputs": [
    {
     "name": "stdout",
     "output_type": "stream",
     "text": [
      "Epoch 0, Loss: 1.8724905140007662\n",
      "Epoch 100, Loss: 0.3475289634320469\n",
      "Epoch 200, Loss: 0.26904827128494646\n",
      "Epoch 300, Loss: 0.22721233752439082\n",
      "Epoch 400, Loss: 0.19630149096490937\n",
      "Epoch 500, Loss: 0.18032268460313855\n",
      "Epoch 600, Loss: 0.16575254255790045\n",
      "Epoch 700, Loss: 0.15448969139177604\n",
      "Epoch 800, Loss: 0.1458424723191188\n",
      "Epoch 900, Loss: 0.1384061351790922\n",
      "Epoch 1000, Loss: 0.13191162344169857\n",
      "Epoch 1100, Loss: 0.12636698932595364\n",
      "Epoch 1200, Loss: 0.12135847210072859\n",
      "Epoch 1300, Loss: 0.11719682477612856\n",
      "Epoch 1400, Loss: 0.11340413782825018\n",
      "Epoch 1500, Loss: 0.10997719358627595\n",
      "Epoch 1600, Loss: 0.10670594927874336\n",
      "Epoch 1700, Loss: 0.10389358116472315\n",
      "Epoch 1800, Loss: 0.10127600551988467\n",
      "Epoch 1900, Loss: 0.0983125745276929\n",
      "Epoch 2000, Loss: 0.09656447800570596\n",
      "Epoch 2100, Loss: 0.09447006122685446\n",
      "Epoch 2200, Loss: 0.09253371894013901\n",
      "Epoch 2300, Loss: 0.09071528592600571\n",
      "Epoch 2400, Loss: 0.08900394120623484\n",
      "Epoch 2500, Loss: 0.08738941383280614\n",
      "Epoch 2600, Loss: 0.08586275555154527\n",
      "Epoch 2700, Loss: 0.08464477722342124\n",
      "Epoch 2800, Loss: 0.08299168598702211\n",
      "Epoch 2900, Loss: 0.08167160517583102\n",
      "Epoch 3000, Loss: 0.08043622542898568\n",
      "Epoch 3100, Loss: 0.07925339114264075\n",
      "Epoch 3200, Loss: 0.07819685193848909\n",
      "Epoch 3300, Loss: 0.077008700937735\n",
      "Epoch 3400, Loss: 0.07596214242322522\n",
      "Epoch 3500, Loss: 0.07497312205819155\n",
      "Epoch 3600, Loss: 0.0740218018496658\n",
      "Epoch 3700, Loss: 0.07310593176314414\n",
      "Epoch 3800, Loss: 0.07222357293857677\n",
      "Epoch 3900, Loss: 0.07137271872453009\n",
      "Epoch 4000, Loss: 0.07055150304213817\n",
      "Epoch 4100, Loss: 0.06975821188256989\n",
      "Epoch 4200, Loss: 0.06899126763590646\n",
      "Epoch 4300, Loss: 0.06824921500853706\n",
      "Epoch 4400, Loss: 0.06753070903089904\n",
      "Epoch 4500, Loss: 0.06683450453696761\n",
      "Epoch 4600, Loss: 0.06615944684926257\n",
      "Epoch 4700, Loss: 0.06550446350420192\n",
      "Epoch 4800, Loss: 0.06494934561687071\n",
      "Epoch 4900, Loss: 0.06423486130587207\n",
      "Epoch 5000, Loss: 0.06362173882559514\n",
      "Epoch 5100, Loss: 0.06303757590933867\n",
      "Epoch 5200, Loss: 0.06247080273179373\n",
      "Epoch 5300, Loss: 0.06191915560823594\n",
      "Epoch 5400, Loss: 0.06137172268185702\n",
      "Epoch 5500, Loss: 0.0608381592746233\n",
      "Epoch 5600, Loss: 0.0603263793126251\n",
      "Epoch 5700, Loss: 0.05982934310275294\n",
      "Epoch 5800, Loss: 0.05934483362032832\n",
      "Epoch 5900, Loss: 0.05887186125215986\n",
      "Epoch 6000, Loss: 0.05840981878363945\n",
      "Epoch 6100, Loss: 0.05795823688772268\n",
      "Epoch 6200, Loss: 0.05751670510437624\n",
      "Epoch 6300, Loss: 0.05708484512189314\n",
      "Epoch 6400, Loss: 0.056662301323297894\n",
      "Epoch 6500, Loss: 0.056248737030402264\n",
      "Epoch 6600, Loss: 0.05584383261504007\n",
      "Epoch 6700, Loss: 0.05544728423593102\n",
      "Epoch 6800, Loss: 0.055058802810014344\n",
      "Epoch 6900, Loss: 0.05467811309774533\n",
      "Epoch 7000, Loss: 0.05430495286461619\n",
      "Epoch 7100, Loss: 0.053939072105275626\n",
      "Epoch 7200, Loss: 0.05358023232345357\n",
      "Epoch 7300, Loss: 0.053228205862812225\n",
      "Epoch 7400, Loss: 0.05288277528452925\n",
      "Epoch 7500, Loss: 0.052543732787836486\n",
      "Epoch 7600, Loss: 0.052210879670063964\n",
      "Epoch 7700, Loss: 0.05188402582305045\n",
      "Epoch 7800, Loss: 0.05156298926306983\n",
      "Epoch 7900, Loss: 0.051247595691670346\n",
      "Epoch 8000, Loss: 0.050937678085045894\n",
      "Epoch 8100, Loss: 0.05063307630979131\n",
      "Epoch 8200, Loss: 0.050333636763053545\n",
      "Epoch 8300, Loss: 0.05003921203527219\n",
      "Epoch 8400, Loss: 0.04974966059386923\n",
      "Epoch 8500, Loss: 0.049464846486340086\n",
      "Epoch 8600, Loss: 0.04918463906139706\n",
      "Epoch 8700, Loss: 0.04890891270684716\n",
      "Epoch 8800, Loss: 0.048637546603066975\n",
      "Epoch 8900, Loss: 0.048381485865083285\n",
      "Epoch 9000, Loss: 0.048121495115516194\n",
      "Epoch 9100, Loss: 0.04783674019553553\n",
      "Epoch 9200, Loss: 0.04744656347444858\n",
      "Epoch 9300, Loss: 0.0473048582332731\n",
      "Epoch 9400, Loss: 0.04708262585050779\n",
      "Epoch 9500, Loss: 0.046830114452999075\n",
      "Epoch 9600, Loss: 0.046586676319193804\n",
      "Epoch 9700, Loss: 0.046351804213795\n",
      "Epoch 9800, Loss: 0.04612013972240474\n",
      "Epoch 9900, Loss: 0.04589099645721368\n"
     ]
    }
   ],
   "source": [
    "# training loop\n",
    "learning_rate=0.1\n",
    "epochs=10000\n",
    "# print(\"initial: \",W1,b1,W2,b2)\n",
    "for epoch in range(epochs):\n",
    "    \n",
    "    Z1,A1,Z2,A2=forward_pass(X,W1,b1,W2,b2)\n",
    "    # print(\"forward:\",A1,A2)\n",
    "    loss=compute_loss(y,A2)\n",
    "    dw1,db1,dw2,db2=back_propagation(X,y,Z1,A1,Z2,A2,W1,W2)\n",
    "    # print(\"gradients:\",dw1,db1,dw2,db2)\n",
    "    W1,b1,W2,b2=update_weights_and_bias(W1,b1,W2,b2,dw1,db1,dw2,db2,learning_rate)\n",
    "    # Print loss every 100 epochs\n",
    "    if epoch % 100 == 0:\n",
    "    # print(W1,b1,W2,b2)\n",
    "        print(f\"Epoch {epoch}, Loss: {loss}\")"
   ]
  },
  {
   "cell_type": "code",
   "execution_count": 93,
   "metadata": {},
   "outputs": [
    {
     "name": "stdout",
     "output_type": "stream",
     "text": [
      "Predictions: [1 0 1 0 0 0 1 1 0 1 0 1 0 0 1 1 0 1 0 1 1 0 0 1 1 0 1 1 0 0 1]\n"
     ]
    }
   ],
   "source": [
    "def predict(X, W1, b1, W2, b2):\n",
    "    _, _, _, A2 = forward_pass(X, W1, b1, W2, b2)\n",
    "    return (A2 > 0.5).astype(int)\n",
    "\n",
    "predictions = predict(X, W1, b1, W2, b2)\n",
    "print(\"Predictions:\", predictions.flatten())"
   ]
  },
  {
   "cell_type": "code",
   "execution_count": 94,
   "metadata": {},
   "outputs": [
    {
     "data": {
      "image/png": "[encoded data removed]",
      "text/plain": [
       "<Figure size 640x480 with 1 Axes>"
      ]
     },
     "metadata": {},
     "output_type": "display_data"
    }
   ],
   "source": [
    "import matplotlib.pyplot as plt\n",
    "import numpy as np\n",
    "\n",
    "# Assuming X has shape (10, 1) and y is binary\n",
    "# Generate index values for visualization\n",
    "indices = np.arange(len(X))  # 0, 1, 2, ..., 9\n",
    "\n",
    "# Scatter plot\n",
    "plt.scatter(indices[y.flatten() == 0], X[y.flatten() == 0, 0], color='red', label='Class 0')\n",
    "plt.scatter(indices[y.flatten() == 1], X[y.flatten() == 1, 0], color='blue', label='Class 1')\n",
    "plt.xlabel('Index')\n",
    "plt.ylabel('Feature Value')\n",
    "plt.legend()\n",
    "plt.title('Data Points with One Feature')\n",
    "plt.show()\n"
   ]
  },
  {
   "cell_type": "code",
   "execution_count": 95,
   "metadata": {},
   "outputs": [
    {
     "data": {
      "image/png": "[encoded data removed]",
      "text/plain": [
       "<Figure size 640x480 with 1 Axes>"
      ]
     },
     "metadata": {},
     "output_type": "display_data"
    }
   ],
   "source": [
    "# Generate a range of feature values\n",
    "feature_range = np.linspace(X.min() - 1, X.max() + 1, 100).reshape(-1, 1)\n",
    "\n",
    "# Predict using your trained model\n",
    "_, _, _, predictions = forward_pass(feature_range, W1, b1, W2, b2)\n",
    "\n",
    "# Plot feature values and predictions\n",
    "plt.plot(feature_range, predictions, color='green', label='Decision Boundary')\n",
    "plt.scatter(X[y.flatten() == 0], y[y.flatten() == 0], color='red', label='Class 0')\n",
    "plt.scatter(X[y.flatten() == 1], y[y.flatten() == 1], color='blue', label='Class 1')\n",
    "plt.xlabel('Feature Value')\n",
    "plt.ylabel('Prediction Probability')\n",
    "plt.legend()\n",
    "plt.title('Decision Boundary for 1D Data')\n",
    "plt.show()\n"
   ]
  },
  {
   "cell_type": "code",
   "execution_count": 96,
   "metadata": {},
   "outputs": [],
   "source": [
    "# Test dataset\n",
    "X_test = np.array([[6], [11], [29], [30], [28]])  # Replace with your test data\n",
    "y_test = np.array([0, 0, 1, 1, 1])  # Ground truth labels"
   ]
  },
  {
   "cell_type": "code",
   "execution_count": 99,
   "metadata": {},
   "outputs": [
    {
     "name": "stdout",
     "output_type": "stream",
     "text": [
      "Predictions: [0 0 1 1 1]\n"
     ]
    }
   ],
   "source": [
    "# Predict on the test dataset\n",
    "predictions = predict(X_test, W1, b1, W2, b2)\n",
    "print(\"Predictions:\", predictions.flatten())"
   ]
  },
  {
   "cell_type": "markdown",
   "metadata": {},
   "source": [
    "The Neural Network seems overfit"
   ]
  },
  {
   "cell_type": "code",
   "execution_count": 100,
   "metadata": {},
   "outputs": [
    {
     "data": {
      "image/png": "[encoded data removed]",
      "text/plain": [
       "<Figure size 640x480 with 1 Axes>"
      ]
     },
     "metadata": {},
     "output_type": "display_data"
    }
   ],
   "source": [
    "import matplotlib.pyplot as plt\n",
    "\n",
    "plt.scatter(X_test[y_test == 0], y_test[y_test == 0], color='red', label='Class 0 (True)')\n",
    "plt.scatter(X_test[y_test == 1], y_test[y_test == 1], color='blue', label='Class 1 (True)')\n",
    "plt.scatter(X_test, predictions, color='green', marker='x', label='Predictions')\n",
    "plt.xlabel('Feature Value')\n",
    "plt.ylabel('Class Label')\n",
    "plt.legend()\n",
    "plt.title('Test Results Visualization')\n",
    "plt.show()\n"
   ]
  },
  {
   "cell_type": "code",
   "execution_count": null,
   "metadata": {},
   "outputs": [],
   "source": []
  }
 ],
 "metadata": {
  "kernelspec": {
   "display_name": "basic_env",
   "language": "python",
   "name": "python3"
  },
  "language_info": {
   "codemirror_mode": {
    "name": "ipython",
    "version": 3
   },
   "file_extension": ".py",
   "mimetype": "text/x-python",
   "name": "python",
   "nbconvert_exporter": "python",
   "pygments_lexer": "ipython3",
   "version": "3.12.5"
  }
 },
 "nbformat": 4,
 "nbformat_minor": 2
}
